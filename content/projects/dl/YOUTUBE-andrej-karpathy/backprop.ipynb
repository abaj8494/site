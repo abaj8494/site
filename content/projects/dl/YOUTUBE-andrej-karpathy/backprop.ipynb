{
 "cells": [
  {
   "cell_type": "code",
   "id": "initial_id",
   "metadata": {
    "collapsed": true,
    "ExecuteTime": {
     "end_time": "2024-08-30T01:21:51.714841Z",
     "start_time": "2024-08-30T01:21:48.448927Z"
    }
   },
   "source": [
    "import math\n",
    "import numpy as np\n",
    "import random\n",
    "import matplotlib.pyplot as plt"
   ],
   "outputs": [],
   "execution_count": 1
  },
  {
   "cell_type": "code",
   "id": "c9dd85b5",
   "metadata": {
    "ExecuteTime": {
     "end_time": "2024-08-30T01:21:51.738005Z",
     "start_time": "2024-08-30T01:21:51.735647Z"
    }
   },
   "source": [
    "def f(x):\n",
    "    return 4*x**2 + 3*x + 2"
   ],
   "outputs": [],
   "execution_count": 2
  },
  {
   "cell_type": "code",
   "id": "429bb1f3",
   "metadata": {
    "ExecuteTime": {
     "end_time": "2024-08-30T01:21:51.860875Z",
     "start_time": "2024-08-30T01:21:51.791873Z"
    }
   },
   "source": [
    "f(1)"
   ],
   "outputs": [
    {
     "data": {
      "text/plain": [
       "9"
      ]
     },
     "execution_count": 3,
     "metadata": {},
     "output_type": "execute_result"
    }
   ],
   "execution_count": 3
  },
  {
   "cell_type": "code",
   "id": "da2bf8c6",
   "metadata": {
    "ExecuteTime": {
     "end_time": "2024-08-30T01:21:52.590545Z",
     "start_time": "2024-08-30T01:21:52.218947Z"
    }
   },
   "source": [
    "xs = np.arange(-5, 5, 0.1)\n",
    "ys = f(xs)\n",
    "plt.plot(xs, ys)"
   ],
   "outputs": [
    {
     "data": {
      "text/plain": [
       "[<matplotlib.lines.Line2D at 0x7fe4d4c45150>]"
      ]
     },
     "execution_count": 4,
     "metadata": {},
     "output_type": "execute_result"
    },
    {
     "data": {
      "text/plain": [
       "<Figure size 640x480 with 1 Axes>"
      ],
      "image/png": "[encoded data removed]"
     },
     "metadata": {},
     "output_type": "display_data"
    }
   ],
   "execution_count": 4
  },
  {
   "cell_type": "code",
   "id": "1ea2539c",
   "metadata": {
    "ExecuteTime": {
     "end_time": "2024-08-30T01:21:52.606974Z",
     "start_time": "2024-08-30T01:21:52.604106Z"
    }
   },
   "source": [
    "h = 0.0001\n",
    "x = -3/8\n",
    "(f(x+h)-f(x))/h"
   ],
   "outputs": [
    {
     "data": {
      "text/plain": [
       "0.00039999999978945766"
      ]
     },
     "execution_count": 5,
     "metadata": {},
     "output_type": "execute_result"
    }
   ],
   "execution_count": 5
  },
  {
   "cell_type": "code",
   "id": "e146f435",
   "metadata": {
    "ExecuteTime": {
     "end_time": "2024-08-30T01:21:52.699880Z",
     "start_time": "2024-08-30T01:21:52.691023Z"
    }
   },
   "source": [
    "class Value:\n",
    "    def __init__(self, data, _op='', _children=(), label=''):\n",
    "        self._op = _op\n",
    "        self.data = data\n",
    "        self.label = label\n",
    "        self._backward = lambda: None\n",
    "        self._prev = set(_children)\n",
    "        self.grad = 0.0\n",
    "\n",
    "    def __repr__(self):\n",
    "        return f\"Value(data={self.data})\"\n",
    "\n",
    "    def __add__(self, other):\n",
    "        # out is the parent\n",
    "        out = Value(self.data + other.data, '+', (self, other))\n",
    "        def _backward():\n",
    "            self.grad += 1.0 * out.grad\n",
    "            other.grad += 1.0 * out.grad\n",
    "        out._backward = _backward\n",
    "        return out\n",
    "\n",
    "    def __mul__(self, other):\n",
    "        out = Value(self.data * other.data, '*', (self, other))\n",
    "        def _backward():\n",
    "            self.grad += other.data * out.grad\n",
    "            other.grad += self.data * out.grad\n",
    "        out._backward = _backward\n",
    "        return out\n",
    "\n",
    "    def tanh(self):\n",
    "        x = self.data\n",
    "        t = (math.exp(2*x)-1)/(math.exp(2*x)+1)\n",
    "        out = Value(t, (self, ), 'tanh')\n",
    "        def _backward():\n",
    "            self.grad += (1-t**2)*out.grad\n",
    "\n",
    "        out._backward = _backward\n",
    "        return out\n",
    "\n",
    "    def backward(self):\n",
    "        \n",
    "        topo = []\n",
    "        visited = set()\n",
    "        def build_topo(v):\n",
    "            if v not in visited:\n",
    "                visited.add(v)\n",
    "                for child in v._prev:\n",
    "                    build_topo(child)\n",
    "                topo.append(v)\n",
    "        build_topo(self)\n",
    "        \n",
    "        self.grad = 1.0\n",
    "        for node in reversed(topo):\n",
    "            node._backward()\n",
    "\n",
    "a = Value(2.0, label='a')\n",
    "b = Value(-3.0, label='b')\n",
    "\n",
    "a + b\n",
    "#a.__add__(b)\n",
    "c = Value(10.0, label='c')\n",
    "e = a * b\n",
    "e.label = 'e'\n",
    "f = Value(-2.0, label='f')\n",
    "d = e + c; d.label ='d'\n",
    "L = d*f; L.label = 'L'\n",
    "L"
   ],
   "outputs": [
    {
     "data": {
      "text/plain": [
       "Value(data=-8.0)"
      ]
     },
     "execution_count": 6,
     "metadata": {},
     "output_type": "execute_result"
    }
   ],
   "execution_count": 6
  },
  {
   "cell_type": "code",
   "id": "191df9f2",
   "metadata": {
    "ExecuteTime": {
     "end_time": "2024-08-30T01:21:53.146556Z",
     "start_time": "2024-08-30T01:21:52.739226Z"
    }
   },
   "source": [
    "# this part is going to be blindly typed,\n",
    "# i have no familiarity with the graphviz library\n",
    "from graphviz import Digraph\n",
    "\n",
    "def trace(root):\n",
    "    nodes, edges = set(), set()\n",
    "    def build(v):\n",
    "        if v not in nodes:\n",
    "            nodes.add(v)\n",
    "        for child in v._prev:\n",
    "            edges.add((child, v))\n",
    "            build(child)\n",
    "    build(root) # note how this function is defined above..\n",
    "    return nodes, edges\n",
    "\n",
    "def draw_dot(root):\n",
    "    dot = Digraph(format='svg', graph_attr={'rankdir': 'LR'})\n",
    "\n",
    "    nodes, edges = trace(root)\n",
    "    for n in nodes:\n",
    "        uid = str(id(n))\n",
    "        dot.node(name = uid, label = \"{ %s | data %.4f | grad %.4f}\" % (n.label, n.data, n.grad), shape='record')\n",
    "        if n._op:\n",
    "            dot.node(name=uid + n._op, label = n._op)\n",
    "            dot.edge(uid + n._op, uid)\n",
    "\n",
    "    for n1, n2 in edges:\n",
    "        dot.edge(str(id(n1)),str(id(n2)) + n2._op)\n",
    "\n",
    "    return dot\n",
    "\n"
   ],
   "outputs": [],
   "execution_count": 7
  },
  {
   "cell_type": "code",
   "id": "b3a245be",
   "metadata": {
    "ExecuteTime": {
     "end_time": "2024-08-30T01:21:53.155074Z",
     "start_time": "2024-08-30T01:21:53.153214Z"
    }
   },
   "source": [
    "L.backward()"
   ],
   "outputs": [],
   "execution_count": 8
  },
  {
   "cell_type": "code",
   "id": "619ed569",
   "metadata": {
    "ExecuteTime": {
     "end_time": "2024-08-30T01:21:54.603294Z",
     "start_time": "2024-08-30T01:21:53.197152Z"
    }
   },
   "source": [
    "draw_dot(L)"
   ],
   "outputs": [
    {
     "data": {
      "image/svg+xml": "<?xml version=\"1.0\" encoding=\"UTF-8\" standalone=\"no\"?>\n<!DOCTYPE svg PUBLIC \"-//W3C//DTD SVG 1.1//EN\"\n \"http://www.w3.org/Graphics/SVG/1.1/DTD/svg11.dtd\">\n<!-- Generated by graphviz version 12.0.0 (20240803.0821)\n -->\n<!-- Pages: 1 -->\n<svg width=\"1151pt\" height=\"154pt\"\n viewBox=\"0.00 0.00 1151.00 154.00\" xmlns=\"http://www.w3.org/2000/svg\" xmlns:xlink=\"http://www.w3.org/1999/xlink\">\n<g id=\"graph0\" class=\"graph\" transform=\"scale(1 1) rotate(0) translate(4 150)\">\n<polygon fill=\"white\" stroke=\"none\" points=\"-4,4 -4,-150 1147,-150 1147,4 -4,4\"/>\n<!-- 140620798174800 -->\n<g id=\"node1\" class=\"node\">\n<title>140620798174800</title>\n<polygon fill=\"none\" stroke=\"black\" points=\"640.12,-109.5 640.12,-145.5 826.12,-145.5 826.12,-109.5 640.12,-109.5\"/>\n<text text-anchor=\"middle\" x=\"650.38\" y=\"-122.7\" font-family=\"Times,serif\" font-size=\"14.00\">f</text>\n<polyline fill=\"none\" stroke=\"black\" points=\"660.62,-110 660.62,-145.5\"/>\n<text text-anchor=\"middle\" x=\"702.75\" y=\"-122.7\" font-family=\"Times,serif\" font-size=\"14.00\">data &#45;2.0000</text>\n<polyline fill=\"none\" stroke=\"black\" points=\"744.88,-110 744.88,-145.5\"/>\n<text text-anchor=\"middle\" x=\"785.5\" y=\"-122.7\" font-family=\"Times,serif\" font-size=\"14.00\">grad 4.0000</text>\n</g>\n<!-- 140620798178448* -->\n<g id=\"node3\" class=\"node\">\n<title>140620798178448*</title>\n<ellipse fill=\"none\" stroke=\"black\" cx=\"890.25\" cy=\"-99.5\" rx=\"27\" ry=\"18\"/>\n<text text-anchor=\"middle\" x=\"890.25\" y=\"-94.45\" font-family=\"Times,serif\" font-size=\"14.00\">*</text>\n</g>\n<!-- 140620798174800&#45;&gt;140620798178448* -->\n<g id=\"edge5\" class=\"edge\">\n<title>140620798174800&#45;&gt;140620798178448*</title>\n<path fill=\"none\" stroke=\"black\" d=\"M826.6,-110.81C835.76,-109.16 844.62,-107.56 852.67,-106.1\"/>\n<polygon fill=\"black\" stroke=\"black\" points=\"853.09,-109.58 862.31,-104.36 851.84,-102.7 853.09,-109.58\"/>\n</g>\n<!-- 140620798178448 -->\n<g id=\"node2\" class=\"node\">\n<title>140620798178448</title>\n<polygon fill=\"none\" stroke=\"black\" points=\"953.25,-81.5 953.25,-117.5 1143,-117.5 1143,-81.5 953.25,-81.5\"/>\n<text text-anchor=\"middle\" x=\"965.38\" y=\"-94.7\" font-family=\"Times,serif\" font-size=\"14.00\">L</text>\n<polyline fill=\"none\" stroke=\"black\" points=\"977.5,-82 977.5,-117.5\"/>\n<text text-anchor=\"middle\" x=\"1019.62\" y=\"-94.7\" font-family=\"Times,serif\" font-size=\"14.00\">data &#45;8.0000</text>\n<polyline fill=\"none\" stroke=\"black\" points=\"1061.75,-82 1061.75,-117.5\"/>\n<text text-anchor=\"middle\" x=\"1102.38\" y=\"-94.7\" font-family=\"Times,serif\" font-size=\"14.00\">grad 1.0000</text>\n</g>\n<!-- 140620798178448*&#45;&gt;140620798178448 -->\n<g id=\"edge1\" class=\"edge\">\n<title>140620798178448*&#45;&gt;140620798178448</title>\n<path fill=\"none\" stroke=\"black\" d=\"M917.69,-99.5C924.84,-99.5 933.03,-99.5 941.74,-99.5\"/>\n<polygon fill=\"black\" stroke=\"black\" points=\"941.51,-103 951.51,-99.5 941.51,-96 941.51,-103\"/>\n</g>\n<!-- 140620797313808 -->\n<g id=\"node4\" class=\"node\">\n<title>140620797313808</title>\n<polygon fill=\"none\" stroke=\"black\" points=\"0,-55.5 0,-91.5 192.75,-91.5 192.75,-55.5 0,-55.5\"/>\n<text text-anchor=\"middle\" x=\"11.38\" y=\"-68.7\" font-family=\"Times,serif\" font-size=\"14.00\">b</text>\n<polyline fill=\"none\" stroke=\"black\" points=\"22.75,-56 22.75,-91.5\"/>\n<text text-anchor=\"middle\" x=\"64.88\" y=\"-68.7\" font-family=\"Times,serif\" font-size=\"14.00\">data &#45;3.0000</text>\n<polyline fill=\"none\" stroke=\"black\" points=\"107,-56 107,-91.5\"/>\n<text text-anchor=\"middle\" x=\"149.88\" y=\"-68.7\" font-family=\"Times,serif\" font-size=\"14.00\">grad &#45;4.0000</text>\n</g>\n<!-- 140620798169952* -->\n<g id=\"node7\" class=\"node\">\n<title>140620798169952*</title>\n<ellipse fill=\"none\" stroke=\"black\" cx=\"255.75\" cy=\"-45.5\" rx=\"27\" ry=\"18\"/>\n<text text-anchor=\"middle\" x=\"255.75\" y=\"-40.45\" font-family=\"Times,serif\" font-size=\"14.00\">*</text>\n</g>\n<!-- 140620797313808&#45;&gt;140620798169952* -->\n<g id=\"edge4\" class=\"edge\">\n<title>140620797313808&#45;&gt;140620798169952*</title>\n<path fill=\"none\" stroke=\"black\" d=\"M193,-56.49C201.81,-54.92 210.32,-53.41 218.06,-52.03\"/>\n<polygon fill=\"black\" stroke=\"black\" points=\"218.43,-55.52 227.66,-50.32 217.21,-48.62 218.43,-55.52\"/>\n</g>\n<!-- 140620797322064 -->\n<g id=\"node5\" class=\"node\">\n<title>140620797322064</title>\n<polygon fill=\"none\" stroke=\"black\" points=\"318.75,-82.5 318.75,-118.5 513,-118.5 513,-82.5 318.75,-82.5\"/>\n<text text-anchor=\"middle\" x=\"329.75\" y=\"-95.7\" font-family=\"Times,serif\" font-size=\"14.00\">c</text>\n<polyline fill=\"none\" stroke=\"black\" points=\"340.75,-83 340.75,-118.5\"/>\n<text text-anchor=\"middle\" x=\"384\" y=\"-95.7\" font-family=\"Times,serif\" font-size=\"14.00\">data 10.0000</text>\n<polyline fill=\"none\" stroke=\"black\" points=\"427.25,-83 427.25,-118.5\"/>\n<text text-anchor=\"middle\" x=\"470.12\" y=\"-95.7\" font-family=\"Times,serif\" font-size=\"14.00\">grad &#45;2.0000</text>\n</g>\n<!-- 140620798178688+ -->\n<g id=\"node9\" class=\"node\">\n<title>140620798178688+</title>\n<ellipse fill=\"none\" stroke=\"black\" cx=\"576\" cy=\"-72.5\" rx=\"27\" ry=\"18\"/>\n<text text-anchor=\"middle\" x=\"576\" y=\"-67.45\" font-family=\"Times,serif\" font-size=\"14.00\">+</text>\n</g>\n<!-- 140620797322064&#45;&gt;140620798178688+ -->\n<g id=\"edge6\" class=\"edge\">\n<title>140620797322064&#45;&gt;140620798178688+</title>\n<path fill=\"none\" stroke=\"black\" d=\"M513.41,-83.41C522.21,-81.85 530.7,-80.34 538.42,-78.98\"/>\n<polygon fill=\"black\" stroke=\"black\" points=\"538.77,-82.47 548,-77.28 537.55,-75.58 538.77,-82.47\"/>\n</g>\n<!-- 140620798169952 -->\n<g id=\"node6\" class=\"node\">\n<title>140620798169952</title>\n<polygon fill=\"none\" stroke=\"black\" points=\"319.88,-27.5 319.88,-63.5 511.88,-63.5 511.88,-27.5 319.88,-27.5\"/>\n<text text-anchor=\"middle\" x=\"330.88\" y=\"-40.7\" font-family=\"Times,serif\" font-size=\"14.00\">e</text>\n<polyline fill=\"none\" stroke=\"black\" points=\"341.88,-28 341.88,-63.5\"/>\n<text text-anchor=\"middle\" x=\"384\" y=\"-40.7\" font-family=\"Times,serif\" font-size=\"14.00\">data &#45;6.0000</text>\n<polyline fill=\"none\" stroke=\"black\" points=\"426.12,-28 426.12,-63.5\"/>\n<text text-anchor=\"middle\" x=\"469\" y=\"-40.7\" font-family=\"Times,serif\" font-size=\"14.00\">grad &#45;2.0000</text>\n</g>\n<!-- 140620798169952&#45;&gt;140620798178688+ -->\n<g id=\"edge7\" class=\"edge\">\n<title>140620798169952&#45;&gt;140620798178688+</title>\n<path fill=\"none\" stroke=\"black\" d=\"M512.05,-61.75C521.28,-63.33 530.2,-64.85 538.29,-66.23\"/>\n<polygon fill=\"black\" stroke=\"black\" points=\"537.53,-69.65 547.98,-67.89 538.71,-62.75 537.53,-69.65\"/>\n</g>\n<!-- 140620798169952*&#45;&gt;140620798169952 -->\n<g id=\"edge2\" class=\"edge\">\n<title>140620798169952*&#45;&gt;140620798169952</title>\n<path fill=\"none\" stroke=\"black\" d=\"M283.22,-45.5C290.59,-45.5 299.09,-45.5 308.13,-45.5\"/>\n<polygon fill=\"black\" stroke=\"black\" points=\"307.89,-49 317.89,-45.5 307.89,-42 307.89,-49\"/>\n</g>\n<!-- 140620798178688 -->\n<g id=\"node8\" class=\"node\">\n<title>140620798178688</title>\n<polygon fill=\"none\" stroke=\"black\" points=\"639,-54.5 639,-90.5 827.25,-90.5 827.25,-54.5 639,-54.5\"/>\n<text text-anchor=\"middle\" x=\"650.38\" y=\"-67.7\" font-family=\"Times,serif\" font-size=\"14.00\">d</text>\n<polyline fill=\"none\" stroke=\"black\" points=\"661.75,-55 661.75,-90.5\"/>\n<text text-anchor=\"middle\" x=\"701.62\" y=\"-67.7\" font-family=\"Times,serif\" font-size=\"14.00\">data 4.0000</text>\n<polyline fill=\"none\" stroke=\"black\" points=\"741.5,-55 741.5,-90.5\"/>\n<text text-anchor=\"middle\" x=\"784.38\" y=\"-67.7\" font-family=\"Times,serif\" font-size=\"14.00\">grad &#45;2.0000</text>\n</g>\n<!-- 140620798178688&#45;&gt;140620798178448* -->\n<g id=\"edge8\" class=\"edge\">\n<title>140620798178688&#45;&gt;140620798178448*</title>\n<path fill=\"none\" stroke=\"black\" d=\"M827.49,-88.75C836.27,-90.28 844.77,-91.76 852.51,-93.1\"/>\n<polygon fill=\"black\" stroke=\"black\" points=\"851.66,-96.51 862.11,-94.78 852.86,-89.61 851.66,-96.51\"/>\n</g>\n<!-- 140620798178688+&#45;&gt;140620798178688 -->\n<g id=\"edge3\" class=\"edge\">\n<title>140620798178688+&#45;&gt;140620798178688</title>\n<path fill=\"none\" stroke=\"black\" d=\"M603.31,-72.5C610.49,-72.5 618.72,-72.5 627.47,-72.5\"/>\n<polygon fill=\"black\" stroke=\"black\" points=\"627.29,-76 637.29,-72.5 627.29,-69 627.29,-76\"/>\n</g>\n<!-- 140620797318608 -->\n<g id=\"node10\" class=\"node\">\n<title>140620797318608</title>\n<polygon fill=\"none\" stroke=\"black\" points=\"4.88,-0.5 4.88,-36.5 187.88,-36.5 187.88,-0.5 4.88,-0.5\"/>\n<text text-anchor=\"middle\" x=\"15.88\" y=\"-13.7\" font-family=\"Times,serif\" font-size=\"14.00\">a</text>\n<polyline fill=\"none\" stroke=\"black\" points=\"26.88,-1 26.88,-36.5\"/>\n<text text-anchor=\"middle\" x=\"66.75\" y=\"-13.7\" font-family=\"Times,serif\" font-size=\"14.00\">data 2.0000</text>\n<polyline fill=\"none\" stroke=\"black\" points=\"106.62,-1 106.62,-36.5\"/>\n<text text-anchor=\"middle\" x=\"147.25\" y=\"-13.7\" font-family=\"Times,serif\" font-size=\"14.00\">grad 6.0000</text>\n</g>\n<!-- 140620797318608&#45;&gt;140620798169952* -->\n<g id=\"edge9\" class=\"edge\">\n<title>140620797318608&#45;&gt;140620798169952*</title>\n<path fill=\"none\" stroke=\"black\" d=\"M188.01,-34.05C198.46,-35.84 208.62,-37.59 217.74,-39.15\"/>\n<polygon fill=\"black\" stroke=\"black\" points=\"217.11,-42.59 227.56,-40.84 218.3,-35.69 217.11,-42.59\"/>\n</g>\n</g>\n</svg>\n",
      "text/plain": [
       "<graphviz.graphs.Digraph at 0x7fe4d4c251e0>"
      ]
     },
     "execution_count": 9,
     "metadata": {},
     "output_type": "execute_result"
    }
   ],
   "execution_count": 9
  }
 ],
 "metadata": {
  "kernelspec": {
   "display_name": "Python 3",
   "language": "python",
   "name": "python3"
  },
  "language_info": {
   "codemirror_mode": {
    "name": "ipython",
    "version": 3
   },
   "file_extension": ".py",
   "mimetype": "text/x-python",
   "name": "python",
   "nbconvert_exporter": "python",
   "pygments_lexer": "ipython3",
   "version": "3.10.14"
  }
 },
 "nbformat": 4,
 "nbformat_minor": 5
}
