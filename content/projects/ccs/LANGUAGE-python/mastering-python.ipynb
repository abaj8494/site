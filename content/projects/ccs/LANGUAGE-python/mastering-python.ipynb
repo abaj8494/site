{
 "cells": [
  {
   "metadata": {},
   "cell_type": "markdown",
   "source": "I shouldn't need any libraries for the below 100 exercises.",
   "id": "9e47e101da00ec62"
  },
  {
   "metadata": {},
   "cell_type": "markdown",
   "source": "https://www.w3resource.com/python-exercises/python_100_exercises_with_solutions.php",
   "id": "6ad058ae25c2c50a"
  },
  {
   "metadata": {},
   "cell_type": "markdown",
   "source": [
    "exercise 1)\n",
    "create a list with values ranging from 0 to 9"
   ],
   "id": "3cadb4f2e40cfe1"
  },
  {
   "metadata": {
    "ExecuteTime": {
     "end_time": "2024-09-23T06:29:55.440674Z",
     "start_time": "2024-09-23T06:29:55.438348Z"
    }
   },
   "cell_type": "code",
   "source": "e1 = list(range(10))",
   "id": "c368c93a1cb3f2ae",
   "outputs": [],
   "execution_count": 4
  },
  {
   "metadata": {},
   "cell_type": "markdown",
   "source": "ex2) convert a list of integers to a list of strings",
   "id": "278e6c22023d448a"
  },
  {
   "metadata": {},
   "cell_type": "code",
   "outputs": [],
   "execution_count": null,
   "source": "",
   "id": "38374e7179eb042d"
  }
 ],
 "metadata": {
  "kernelspec": {
   "display_name": "Python 3",
   "language": "python",
   "name": "python3"
  },
  "language_info": {
   "codemirror_mode": {
    "name": "ipython",
    "version": 2
   },
   "file_extension": ".py",
   "mimetype": "text/x-python",
   "name": "python",
   "nbconvert_exporter": "python",
   "pygments_lexer": "ipython2",
   "version": "2.7.6"
  }
 },
 "nbformat": 4,
 "nbformat_minor": 5
}
